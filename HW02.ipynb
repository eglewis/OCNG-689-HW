{
 "cells": [
  {
   "cell_type": "code",
   "execution_count": 1,
   "metadata": {
    "collapsed": false
   },
   "outputs": [
    {
     "data": {
      "text/plain": [
       "{'department': 'Atmospheric Sciences and Oceanography',\n",
       " 'hometown': 'Dallas',\n",
       " 'name': 'Emily Lewis',\n",
       " 'status': 'Grad',\n",
       " 'why': 'Become proficient using python',\n",
       " 'years at TAMU': 4}"
      ]
     },
     "execution_count": 1,
     "metadata": {},
     "output_type": "execute_result"
    }
   ],
   "source": [
    "#1 Make a dictionary \n",
    "# key:value\n",
    "d = {'name':'Emily Lewis', \n",
    "     'hometown':'Dallas',\n",
    "     'department':'Atmospheric Sciences and Oceanography', \n",
    "     'status':'Grad', \n",
    "     'years at TAMU': 4, \n",
    "     'why': 'Become proficient using python'}\n",
    "d\n",
    "#d.keys()\n",
    "#d.values()"
   ]
  },
  {
   "cell_type": "code",
   "execution_count": 9,
   "metadata": {
    "collapsed": false
   },
   "outputs": [
    {
     "data": {
      "text/plain": [
       "False"
      ]
     },
     "execution_count": 9,
     "metadata": {},
     "output_type": "execute_result"
    }
   ],
   "source": [
    "#2 Test for vowels. \n",
    "def isVowel(x):\n",
    "    '''This tells you if x is a vowel or something else'''\n",
    "    return x in 'a, A, e, E, i, I, o, O, u, U, y, Y'\n",
    "isVowel('a')\n",
    "isVowel('b')"
   ]
  },
  {
   "cell_type": "code",
   "execution_count": 1,
   "metadata": {
    "collapsed": false
   },
   "outputs": [
    {
     "data": {
      "text/plain": [
       "7"
      ]
     },
     "execution_count": 1,
     "metadata": {},
     "output_type": "execute_result"
    }
   ],
   "source": [
    "#3 Compute the length of a given list or string.\n",
    "def length(a):\n",
    "    '''This tells you how long the string is'''\n",
    "    length = 0\n",
    "    for x in a:\n",
    "        length+=1\n",
    "    return length\n",
    "#length(['string1','string2'])\n",
    "length('string1')"
   ]
  },
  {
   "cell_type": "code",
   "execution_count": 11,
   "metadata": {
    "collapsed": false
   },
   "outputs": [
    {
     "data": {
      "text/plain": [
       "'gnitseT ma I'"
      ]
     },
     "execution_count": 11,
     "metadata": {},
     "output_type": "execute_result"
    }
   ],
   "source": [
    "#4 Reverse a string\n",
    "def reverse(x):\n",
    "    '''This reverses the string so cat becomes tac'''\n",
    "    return x[::-1]\n",
    "reverse(\"I am Testing\")"
   ]
  },
  {
   "cell_type": "code",
   "execution_count": 12,
   "metadata": {
    "collapsed": false
   },
   "outputs": [
    {
     "data": {
      "text/plain": [
       "True"
      ]
     },
     "execution_count": 12,
     "metadata": {},
     "output_type": "execute_result"
    }
   ],
   "source": [
    "#5 Check for palindromes\n",
    "# things the same forwards and backwards\n",
    "def is_palindromes(x):\n",
    "    x = x.upper()\n",
    "    x = x.strip()\n",
    "    x = \"\".join(x.split())\n",
    "    return x[::1]==x[::-1]\n",
    "#is_palindromes('even')\n",
    "#is_palindromes('Eve Eve')\n",
    "is_palindromes('Never odd or even')"
   ]
  },
  {
   "cell_type": "code",
   "execution_count": 9,
   "metadata": {
    "collapsed": false
   },
   "outputs": [],
   "source": [
    "#6 Number lines in a text file\n",
    "file = open(\"file.txt\")\n",
    "lines = file.readlines()\n",
    "newf = []\n",
    "nu = 0\n",
    "for line in lines:\n",
    "    linechk = line.split()\n",
    "    if not linechk: continue\n",
    "    nu = nu + 1\n",
    "    newf.append(str(nu) + \" \" + line)\n",
    "with open('../test.log', 'w') as m:\n",
    "    for u in newf:\n",
    "        m.write(u)"
   ]
  },
  {
   "cell_type": "code",
   "execution_count": 10,
   "metadata": {
    "collapsed": false
   },
   "outputs": [
    {
     "data": {
      "text/plain": [
       "[5, 3, 7]"
      ]
     },
     "execution_count": 10,
     "metadata": {},
     "output_type": "execute_result"
    }
   ],
   "source": [
    "#7 Convert list of words into list of integers of length of words\n",
    "\n",
    "#1\n",
    "def method1(a):\n",
    "    def length(a):\n",
    "        '''This tells you how long the string is'''\n",
    "        length = 0\n",
    "        for x in a:\n",
    "            length+=1\n",
    "        return length\n",
    "    y=[]\n",
    "    for z in a:\n",
    "        w=length(z)\n",
    "        y.append(w)\n",
    "    return y\n",
    "        \n",
    "hello = ['radar','cat', 'puppies']\n",
    "method1(hello)\n"
   ]
  },
  {
   "cell_type": "code",
   "execution_count": 11,
   "metadata": {
    "collapsed": false
   },
   "outputs": [
    {
     "data": {
      "text/plain": [
       "[5, 3, 7]"
      ]
     },
     "execution_count": 11,
     "metadata": {},
     "output_type": "execute_result"
    }
   ],
   "source": [
    "#7 2\n",
    "def method2(a):\n",
    "    return list(map(length,a))\n",
    "\n",
    "method2(hello)"
   ]
  },
  {
   "cell_type": "code",
   "execution_count": 12,
   "metadata": {
    "collapsed": false
   },
   "outputs": [
    {
     "data": {
      "text/plain": [
       "[5, 3, 7]"
      ]
     },
     "execution_count": 12,
     "metadata": {},
     "output_type": "execute_result"
    }
   ],
   "source": [
    "#7 3\n",
    "# List Comprehension [<element(item)> for item in sequence]\n",
    "def method3(a):\n",
    "    return [length(a) for a in a]\n",
    "method3(hello)"
   ]
  },
  {
   "cell_type": "code",
   "execution_count": null,
   "metadata": {
    "collapsed": false
   },
   "outputs": [],
   "source": [
    "#8 Encode and decode using ROT-13\n",
    "\n",
    "def ROT13():\n",
    "    phrase = input(\"Enter text to be encoded/decoded: \")\n",
    "    key = {'a':'n', 'b':'o', 'c':'p', 'd':'q', 'e':'r', 'f':'s', 'g':'t', 'h':'u', \n",
    "           'i':'v', 'j':'w', 'k':'x', 'l':'y', 'm':'z', 'n':'a', 'o':'b', 'p':'c', \n",
    "           'q':'d', 'r':'e', 's':'f', 't':'g', 'u':'h', 'v':'i', 'w':'j', 'x':'k',\n",
    "           'y':'l', 'z':'m', 'A':'N', 'B':'O', 'C':'P', 'D':'Q', 'E':'R', 'F':'S', \n",
    "           'G':'T', 'H':'U', 'I':'V', 'J':'W', 'K':'X', 'L':'Y', 'M':'Z', 'N':'A', \n",
    "           'O':'B', 'P':'C', 'Q':'D', 'R':'E', 'S':'F', 'T':'G', 'U':'H', 'V':'I', \n",
    "           'W':'J', 'X':'K', 'Y':'L', 'Z':'M', '?':'?', '!':'!', ' ':' '}\n",
    "    letters = []\n",
    "    new = []\n",
    "    for part in phrase:\n",
    "        letter = list(part)\n",
    "        for k in letter:\n",
    "            letters.append(k)\n",
    "    for l in letters:\n",
    "        newlet = key[l]\n",
    "        new.append(newlet)\n",
    "    newphrase = ''.join(new)\n",
    "    return newphrase\n",
    "\n",
    "\n",
    "ROT13()"
   ]
  },
  {
   "cell_type": "code",
   "execution_count": 5,
   "metadata": {
    "collapsed": false,
    "scrolled": true
   },
   "outputs": [
    {
     "name": "stdout",
     "output_type": "stream",
     "text": [
      "3 bottles of beer on the wall, 3 bottles of beer.\n",
      "Take one down, pass it around, 2 bottles of beer on the wall.\n",
      "\n",
      "2 bottles of beer on the wall, 2 bottles of beer.\n",
      "Take one down, pass it around, 1 bottles of beer on the wall.\n",
      "\n",
      "1 bottle of beer on the wall, 1 bottle of beer.\n",
      "Take one down, pass it around, 0 bottles of beer on the wall.\n",
      "\n"
     ]
    }
   ],
   "source": [
    "#9 Fix the code\n",
    "def words(num):\n",
    "    \"\"\"Returns words with proper number of beer bottles filled in.\"\"\"\n",
    "    #deleted for num in num\n",
    "    if num != 1: #added :\n",
    "        return str(num) + ' bottles of beer on the wall, ' + str(num) + ' bottles of beer.\\n' + \\\n",
    "        'Take one down, pass it around, ' + str(num-1) + ' bottles of beer on the wall.\\n'\n",
    "        # added \\ to put in two lines\n",
    "    elif num == 1: #added =\n",
    "        return str(num) + ' bottle of beer on the wall, ' + str(num) + ' bottle of beer.\\n' + \\\n",
    "        'Take one down, pass it around, ' + str(num-1) + ' bottles of beer on the wall.\\n'\n",
    "        \n",
    "numbottles = 4  # needed 4 to get to 3 with 0 indexing\n",
    "for i in range(1, numbottles, 1)[::-1]: # modified range\n",
    "    print(words(i)) #fixed spacing"
   ]
  },
  {
   "cell_type": "code",
   "execution_count": 18,
   "metadata": {
    "collapsed": false
   },
   "outputs": [
    {
     "name": "stdout",
     "output_type": "stream",
     "text": [
      "5/20/2006\n",
      "1:47:25\n"
     ]
    }
   ],
   "source": [
    "#10 Reading in and parsing a file\n",
    "class MyObjects(object):\n",
    "    def __init__(self, date=None, time=None):\n",
    "        self.date = date\n",
    "        self.time = time\n",
    "        \n",
    "datetime = []\n",
    "gpsfile = open('../python4geosciences/data/GPS.dat')\n",
    "gpslines = gpsfile.readlines()\n",
    "for line in gpslines:\n",
    "    lin = line.split()\n",
    "    if not lin: continue\n",
    "    if lin[0] == 'Trackpoint':\n",
    "        date = lin[5]\n",
    "        time = lin[6]\n",
    "        datetime.append(MyObjects(date, time))\n",
    "\n",
    "print(datetime[50].date)\n",
    "print(datetime[50].time)"
   ]
  },
  {
   "cell_type": "code",
   "execution_count": 10,
   "metadata": {
    "collapsed": false
   },
   "outputs": [
    {
     "data": {
      "text/plain": [
       "3628800"
      ]
     },
     "execution_count": 10,
     "metadata": {},
     "output_type": "execute_result"
    }
   ],
   "source": [
    "#11 Constructing terms in a Taylor series to approximate a function\n",
    "\n",
    "def factorial(n):\n",
    "    if n == 0:\n",
    "        return 1\n",
    "    else: \n",
    "        return n * factorial(n-1)\n",
    "    \n",
    "\n",
    "# def sine(n):\n",
    "#     sum = 0.0\n",
    "#     n = 0.0\n",
    "#     term = 1.0\n",
    "#     while (term > .00000000001):\n",
    "#         term = ((x ** (2 * n + 1.0))) / (factorial(2 * n + 1.0))\n",
    "#         if n % 2 == 0:\n",
    "#             sum += term\n",
    "#         else:\n",
    "#             sum -= term\n",
    "#         n =+ 1\n",
    "#     return sum\n",
    "\n",
    "factorial(10)"
   ]
  },
  {
   "cell_type": "code",
   "execution_count": 13,
   "metadata": {
    "collapsed": false
   },
   "outputs": [
    {
     "name": "stdout",
     "output_type": "stream",
     "text": [
      "Enter x: 0.5\n",
      "Enter N: 50\n",
      "0.479425538604203\n"
     ]
    }
   ],
   "source": [
    "x = float(input(\"Enter x: \"))\n",
    "N = int(input(\"Enter N: \"))\n",
    "summ = []\n",
    "for k in range(0,N+1):\n",
    "    num = ((-1)**k * x**(1+2*k))/factorial(1+2*k)\n",
    "    summ.append(num)\n",
    "print (sum(summ))"
   ]
  },
  {
   "cell_type": "code",
   "execution_count": null,
   "metadata": {
    "collapsed": true
   },
   "outputs": [],
   "source": []
  }
 ],
 "metadata": {
  "kernelspec": {
   "display_name": "Python 3",
   "language": "python",
   "name": "python3"
  },
  "language_info": {
   "codemirror_mode": {
    "name": "ipython",
    "version": 3
   },
   "file_extension": ".py",
   "mimetype": "text/x-python",
   "name": "python",
   "nbconvert_exporter": "python",
   "pygments_lexer": "ipython3",
   "version": "3.5.1"
  }
 },
 "nbformat": 4,
 "nbformat_minor": 0
}
