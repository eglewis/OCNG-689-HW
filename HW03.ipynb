{
 "cells": [
  {
   "cell_type": "code",
   "execution_count": 1,
   "metadata": {
    "collapsed": true
   },
   "outputs": [],
   "source": [
    "# Emily Lewis\n",
    "# OCNG 689\n",
    "# Homework 3\n",
    "import numpy as np"
   ]
  },
  {
   "cell_type": "code",
   "execution_count": 2,
   "metadata": {
    "collapsed": false
   },
   "outputs": [
    {
     "data": {
      "text/plain": [
       "array([ 0.,  0.,  0.,  0.,  1.,  0.,  0.,  0.,  0.,  0.])"
      ]
     },
     "execution_count": 2,
     "metadata": {},
     "output_type": "execute_result"
    }
   ],
   "source": [
    "#1 Vector manipulation\n",
    "a = np.zeros(10)\n",
    "a[4]=1\n",
    "a"
   ]
  },
  {
   "cell_type": "code",
   "execution_count": 3,
   "metadata": {
    "collapsed": false
   },
   "outputs": [
    {
     "data": {
      "text/plain": [
       "array([10, 11, 12, 13, 14, 15, 16, 17, 18, 19, 20, 21, 22, 23, 24, 25, 26,\n",
       "       27, 28, 29, 30, 31, 32, 33, 34, 35, 36, 37, 38, 39, 40, 41, 42, 43,\n",
       "       44, 45, 46, 47, 48, 49])"
      ]
     },
     "execution_count": 3,
     "metadata": {},
     "output_type": "execute_result"
    }
   ],
   "source": [
    "#2 Vector range\n",
    "b = np.arange(10,50,1)\n",
    "b"
   ]
  },
  {
   "cell_type": "code",
   "execution_count": 4,
   "metadata": {
    "collapsed": false
   },
   "outputs": [
    {
     "data": {
      "text/plain": [
       "array([8, 7, 6, 5, 4, 3, 2, 1])"
      ]
     },
     "execution_count": 4,
     "metadata": {},
     "output_type": "execute_result"
    }
   ],
   "source": [
    "#3 Reverse a vector\n",
    "def reverse(x):\n",
    "    '''return a 1D vector with the elements reversed\n",
    "        Input\n",
    "    -----\n",
    "        x: 1D array\n",
    "    Output\n",
    "    ------\n",
    "        res: 1D array, with the elements of `x` reversed '''\n",
    "    return x[::-1]\n",
    "\n",
    "x=np.array([1,2,3,4,5,6,7,8])\n",
    "reverse(x)"
   ]
  },
  {
   "cell_type": "code",
   "execution_count": 5,
   "metadata": {
    "collapsed": false
   },
   "outputs": [
    {
     "name": "stdout",
     "output_type": "stream",
     "text": [
      "(array([0, 1, 4]),)\n",
      "[1 2 4]\n"
     ]
    }
   ],
   "source": [
    "#4 Find indices of non-zero elements\n",
    "# one way to do 4\n",
    "def find_nonzero(z):\n",
    "    return np.nonzero(z)\n",
    "x=np.array([1,2,0,0,4,0])\n",
    "w = find_nonzero(x)\n",
    "\n",
    "print(w)\n",
    "y = x[find_nonzero(x)]\n",
    "print(y)\n",
    "# type(y)"
   ]
  },
  {
   "cell_type": "code",
   "execution_count": 6,
   "metadata": {
    "collapsed": false
   },
   "outputs": [
    {
     "name": "stdout",
     "output_type": "stream",
     "text": [
      "These are the indices: [0, 1, 4]\n",
      "Used function to get nonzero values: [1 2 4]\n"
     ]
    }
   ],
   "source": [
    "# better way to do 4\n",
    "def find_nonzero(z):\n",
    "    '''return the indices of non-zero elements of an array.\n",
    "        Input:      x:  array\n",
    "        Output:     indices: array of integer indices'''\n",
    "    nonzero=[]\n",
    "    for i,w in enumerate(z):\n",
    "        if w !=0:\n",
    "            nonzero.append(i)\n",
    "        else: continue\n",
    "    return nonzero\n",
    "\n",
    "x=np.array([1,2,0,0,4,0])\n",
    "print('These are the indices:', find_nonzero(x))\n",
    "z=x[find_nonzero(x)]\n",
    "print('Used function to get nonzero values:', z)"
   ]
  },
  {
   "cell_type": "code",
   "execution_count": 7,
   "metadata": {
    "collapsed": false
   },
   "outputs": [
    {
     "name": "stdout",
     "output_type": "stream",
     "text": [
      "0\n",
      "cats\n",
      "1\n",
      "radar\n",
      "2\n",
      "stars\n"
     ]
    }
   ],
   "source": [
    "# explaination of enumerate\n",
    "words = ['cats','radar','stars']\n",
    "for i,word in enumerate(words):\n",
    "    print(i)\n",
    "    print(word)\n",
    "    "
   ]
  },
  {
   "cell_type": "code",
   "execution_count": 8,
   "metadata": {
    "collapsed": false
   },
   "outputs": [
    {
     "name": "stdout",
     "output_type": "stream",
     "text": [
      "[[[ 0.02634368  0.08671024 -0.88204354]\n",
      "  [-1.1598874   0.89299364  1.62187607]\n",
      "  [-0.60044434 -0.15556792 -0.45329234]]\n",
      "\n",
      " [[-1.86368311 -0.71023478  0.88363552]\n",
      "  [-0.00868098 -1.13652343  0.70430637]\n",
      "  [-0.33180009 -0.41984449 -0.12350629]]\n",
      "\n",
      " [[-1.11990261  1.44682591 -0.61405417]\n",
      "  [ 0.49558939  1.64382213  0.915758  ]\n",
      "  [-0.1025332   0.22084156  0.29943824]]]\n"
     ]
    }
   ],
   "source": [
    "#5 Array with random values\n",
    "#np.random.normal(loc=0,scale=1,size=None)\n",
    "# loc is mean... mu of distribution >> 0 for this problem\n",
    "# scale is standard deviation >> 1 in this case\n",
    "z = np.random.normal(0,1,(3,3,3))\n",
    "print(z)"
   ]
  },
  {
   "cell_type": "code",
   "execution_count": 9,
   "metadata": {
    "collapsed": false
   },
   "outputs": [
    {
     "name": "stdout",
     "output_type": "stream",
     "text": [
      "[[ 0.41144331  0.3681097   0.67297216  0.09568757  0.15950511  0.60782714\n",
      "   0.39237251  0.3003297   0.39770748  0.46851694]\n",
      " [ 0.78462111  0.30703774  0.40719018  0.23020348  0.34430374  0.8727767\n",
      "   0.33606555  0.50575233  0.24148091  0.77954518]\n",
      " [ 0.20855689  0.40095124  0.82122234  0.77451733  0.08820686  0.33337463\n",
      "   0.12335645  0.38988377  0.65355074  0.88424287]\n",
      " [ 0.45128268  0.86047429  0.51168041  0.37316527  0.33869875  0.10057183\n",
      "   0.09733393  0.47390451  0.62860614  0.97988959]\n",
      " [ 0.42771034  0.80764384  0.89011113  0.05659971  0.53316375  0.32734118\n",
      "   0.45065232  0.32162177  0.33865422  0.89053532]\n",
      " [ 0.34271867  0.68822646  0.55717202  0.56874368  0.92528673  0.31163103\n",
      "   0.64322066  0.81094155  0.0235478   0.88208726]\n",
      " [ 0.0845931   0.55447795  0.29828049  0.68833258  0.51134308  0.57514555\n",
      "   0.42344177  0.48785102  0.87845094  0.15227325]\n",
      " [ 0.76863452  0.96961274  0.51714782  0.75395247  0.12098669  0.54451435\n",
      "   0.08885375  0.28377418  0.44123433  0.21808134]\n",
      " [ 0.12180747  0.10746835  0.57570106  0.76264437  0.5234705   0.94811872\n",
      "   0.53992129  0.50747789  0.08389876  0.3363082 ]\n",
      " [ 0.19965922  0.8097443   0.50138853  0.38631971  0.99336339  0.30548433\n",
      "   0.95808725  0.10853356  0.543944    0.56529804]]\n",
      "Minimm of 2nd row:  0.230203475719\n",
      "Maximum of 4th column: 0.774517330168\n"
     ]
    }
   ],
   "source": [
    "#6 Operations on an array with random values\n",
    "x=np.random.rand(10,10)\n",
    "print(x)\n",
    "\n",
    "# min 2nd row\n",
    "#axis 1 is for rows ... axis 0 is for columns\n",
    "# [1] makes it the second row specifically\n",
    "y=x.min(axis=1)[1]\n",
    "print('Minimm of 2nd row: ',y)\n",
    "\n",
    "# max 4th column\n",
    "# this returns maximum values for all the columns\n",
    "# [3] makes it the fourth column specifically \n",
    "z=x.max(axis=0)[3]\n",
    "print('Maximum of 4th column:',z)"
   ]
  },
  {
   "cell_type": "code",
   "execution_count": 10,
   "metadata": {
    "collapsed": false
   },
   "outputs": [
    {
     "name": "stdout",
     "output_type": "stream",
     "text": [
      "[ 0.09090909  0.18181818  0.27272727  0.36363636  0.45454545  0.54545455\n",
      "  0.63636364  0.72727273  0.81818182  0.90909091]\n"
     ]
    },
    {
     "data": {
      "text/plain": [
       "10"
      ]
     },
     "execution_count": 10,
     "metadata": {},
     "output_type": "execute_result"
    }
   ],
   "source": [
    "#7 Vector without end points\n",
    "x = np.linspace(0,1,12)[1:11]\n",
    "print(x)\n",
    "x.size"
   ]
  },
  {
   "cell_type": "code",
   "execution_count": 11,
   "metadata": {
    "collapsed": false
   },
   "outputs": [
    {
     "name": "stdout",
     "output_type": "stream",
     "text": [
      "[ 0.69773744  0.28297675  0.01216718  0.50799161  0.38091549  0.88668476\n",
      "  0.24124097  0.95520835  0.75570013  0.16312233]\n"
     ]
    },
    {
     "data": {
      "text/plain": [
       "array([ 0.01216718,  0.16312233,  0.24124097,  0.28297675,  0.38091549,\n",
       "        0.50799161,  0.69773744,  0.75570013,  0.88668476,  0.95520835])"
      ]
     },
     "execution_count": 11,
     "metadata": {},
     "output_type": "execute_result"
    }
   ],
   "source": [
    "#8 Sorted random vector\n",
    "e = np.random.rand(10)\n",
    "print(e)\n",
    "e.sort()\n",
    "e"
   ]
  },
  {
   "cell_type": "code",
   "execution_count": 12,
   "metadata": {
    "collapsed": false
   },
   "outputs": [
    {
     "ename": "TypeError",
     "evalue": "'builtin_function_or_method' object is not subscriptable",
     "output_type": "error",
     "traceback": [
      "\u001b[0;31m---------------------------------------------------------------------------\u001b[0m",
      "\u001b[0;31mTypeError\u001b[0m                                 Traceback (most recent call last)",
      "\u001b[0;32m<ipython-input-12-5c8ae7bc9690>\u001b[0m in \u001b[0;36m<module>\u001b[0;34m()\u001b[0m\n\u001b[1;32m      7\u001b[0m     \u001b[0;32mreturn\u001b[0m \u001b[0mA\u001b[0m \u001b[0;34m==\u001b[0m \u001b[0mB\u001b[0m\u001b[0;34m\u001b[0m\u001b[0m\n\u001b[1;32m      8\u001b[0m \u001b[0;34m\u001b[0m\u001b[0m\n\u001b[0;32m----> 9\u001b[0;31m \u001b[0mC\u001b[0m\u001b[0;34m=\u001b[0m\u001b[0;34m(\u001b[0m\u001b[0mnp\u001b[0m\u001b[0;34m.\u001b[0m\u001b[0marray\u001b[0m\u001b[0;34m[\u001b[0m\u001b[0;36m1\u001b[0m\u001b[0;34m,\u001b[0m\u001b[0;36m2\u001b[0m\u001b[0;34m,\u001b[0m\u001b[0;36m3\u001b[0m\u001b[0;34m,\u001b[0m\u001b[0;36m4\u001b[0m\u001b[0;34m]\u001b[0m\u001b[0;34m)\u001b[0m\u001b[0;34m\u001b[0m\u001b[0m\n\u001b[0m\u001b[1;32m     10\u001b[0m \u001b[0mD\u001b[0m\u001b[0;34m=\u001b[0m\u001b[0;34m(\u001b[0m\u001b[0mnp\u001b[0m\u001b[0;34m.\u001b[0m\u001b[0marray\u001b[0m\u001b[0;34m[\u001b[0m\u001b[0;36m1\u001b[0m\u001b[0;34m,\u001b[0m\u001b[0;36m2\u001b[0m\u001b[0;34m,\u001b[0m\u001b[0;36m3\u001b[0m\u001b[0;34m,\u001b[0m\u001b[0;36m4\u001b[0m\u001b[0;34m,\u001b[0m\u001b[0;36m5\u001b[0m\u001b[0;34m]\u001b[0m\u001b[0;34m)\u001b[0m\u001b[0;34m\u001b[0m\u001b[0m\n\u001b[1;32m     11\u001b[0m \u001b[0mprint\u001b[0m\u001b[0;34m(\u001b[0m\u001b[0mis_equal\u001b[0m\u001b[0;34m(\u001b[0m\u001b[0mC\u001b[0m\u001b[0;34m,\u001b[0m\u001b[0mD\u001b[0m\u001b[0;34m)\u001b[0m\u001b[0;34m)\u001b[0m\u001b[0;34m\u001b[0m\u001b[0m\n",
      "\u001b[0;31mTypeError\u001b[0m: 'builtin_function_or_method' object is not subscriptable"
     ]
    }
   ],
   "source": [
    "#9 Test for array equality\n",
    "def is_equal(A,B):\n",
    "    '''Inputs:\n",
    "            A, B:  array\n",
    "        Output:\n",
    "            Bool:  True if A and B have the same shape and identical elements.'''\n",
    "    return A == B\n",
    "\n",
    "C=(np.array[1,2,3,4])\n",
    "D=(np.array[1,2,3,4,5])\n",
    "print(is_equal(C,D))\n",
    "\n",
    "E=(np.array[4,3,2])\n",
    "F=(np.array[4,3,2])\n",
    "print(is_equal(E,F))"
   ]
  },
  {
   "cell_type": "code",
   "execution_count": null,
   "metadata": {
    "collapsed": false
   },
   "outputs": [],
   "source": [
    "#10 Subtract the row mean from rows of a matrix\n",
    "g=np.random.rand(3,3)\n",
    "print('Original matrix:\\n ',g)\n",
    "y=g.mean(axis=1)\n",
    "print('mean of the rows: ', y)\n",
    "\n",
    "def sub_row_mean(x):\n",
    "    '''Takes matrix and subtracts row mean from rows'''\n",
    "    y=x.mean(axis=1, keepdims=True)\n",
    "    z = x - y\n",
    "    return z\n",
    "\n",
    "sub_row_mean(g)"
   ]
  },
  {
   "cell_type": "code",
   "execution_count": null,
   "metadata": {
    "collapsed": false
   },
   "outputs": [],
   "source": [
    "#11 Multiply arrays\n",
    "a=np.random.rand(5,5,3)\n",
    "b=np.random.rand(5,5)\n",
    "sol1 = a*b[:,:,None] # this is to fix the size so they can be multiplied \n",
    "print(sol1)\n",
    "\n",
    "c=np.random.rand(3,5,5)\n",
    "d=np.random.rand(5,5)\n",
    "sol2 = c*d\n",
    "print(sol2)"
   ]
  },
  {
   "cell_type": "code",
   "execution_count": null,
   "metadata": {
    "collapsed": false
   },
   "outputs": [],
   "source": [
    "#12 Creating a new array\n",
    "Z=np.arange(1,15,1)\n",
    "print('This is Z:\\n',Z)\n",
    "# R = [[1,2,3,4], [2,3,4,5], [3,4,5,6], ..., [11,12,13,14]]. \n",
    "\n",
    "# k=array([])\n",
    "#type(k)\n",
    "k = []\n",
    "for n in Z:\n",
    "    if n < 12:\n",
    "        n = np.array([n,n+1,n+2,n+3])\n",
    "        k.append(n)\n",
    "        R=np.asarray(k)        # this makes R return as an array \n",
    "    elif n == 12 or n == 13:   # this keeps the array from printing three times\n",
    "        continue\n",
    "    else:                      # the array only prints once for the value n = 14\n",
    "        print('This is R:\\n',R)"
   ]
  },
  {
   "cell_type": "code",
   "execution_count": null,
   "metadata": {
    "collapsed": false
   },
   "outputs": [],
   "source": [
    "#13 Convert from Cartesian to polar coordinates\n",
    "def cart2polar(xy):\n",
    "    '''Return equivalent polar coordinates of specified cartesian points.\n",
    "    Inputs:\n",
    "        xy: array\n",
    "             Nx2 array of Cartesian coordinates, with columns x and y respectively.\n",
    "    Returns:\n",
    "        rp: array\n",
    "            Nx2 array of polar coordinates, with columns radius and angle respectively'''   \n",
    "    x = xy[:,0]\n",
    "    y = xy[:,1]\n",
    "    r = np.sqrt(x**2 + y**2)\n",
    "    p = np.arctan2(y, x)\n",
    "    return(np.transpose(np.array([r,p])))\n",
    "\n",
    "# a=np.random.rand(2,2)\n",
    "# print(a)\n",
    "b = np.array([[1,2],[3,5],[2,7]])\n",
    "cart2polar(b)"
   ]
  },
  {
   "cell_type": "code",
   "execution_count": null,
   "metadata": {
    "collapsed": false
   },
   "outputs": [],
   "source": [
    "#14 Compute and time for loops and array operations.\n",
    "import time\n",
    "\n",
    "a = np.arange(1024.0).reshape(4, 8, 16, 2)   # a 4D array using sequential numbers\n",
    "b = np.random.rand(4, 8, 16, 2)              # a 4D array using random numbers\n",
    "\n",
    "time3 = time.time()\n",
    "# print(time3)\n",
    "\n",
    "sol = a * b  # element-by-element multiplication. This operation is about as fast as it can be on your computer.\n",
    "\n",
    "\n",
    "time1 = time.time()\n",
    "print('This is time1: ', time1)\n",
    "\n",
    "# (n, k, j, i) \n",
    "\n",
    "sol2 = np.empty_like(sol)\n",
    "for n in range(a.shape[0]):\n",
    "    for k in range(a.shape[1]):\n",
    "        for j in range(a.shape[2]):\n",
    "            for i in range(a.shape[3]):\n",
    "                sol2[n, k, j, i] = a[n, k, j, i] * b[n, k, j, i]    \n",
    "\n",
    "time2 = time.time()\n",
    "# print('This is time2: ', time2)\n",
    "\n",
    "# print(time2-time1)\n",
    "\n",
    "ratio=((time2-time1)/(time1-time3))\n",
    "print('ratio of sol2/sol: ', ratio)\n",
    "\n",
    "# type(np.shape(a))\n",
    "# a.shape\n",
    "# list(range(3))"
   ]
  },
  {
   "cell_type": "code",
   "execution_count": null,
   "metadata": {
    "collapsed": false
   },
   "outputs": [],
   "source": [
    "np.all(sol==sol2)"
   ]
  },
  {
   "cell_type": "code",
   "execution_count": null,
   "metadata": {
    "collapsed": false
   },
   "outputs": [],
   "source": [
    "#15 Fix the code\n",
    "def calculate(a, b):\n",
    "    \"\"\"Do some calculations\n",
    "    \n",
    "    Take in two arrays, subtract 1/4 of the [:2,:] elements from the elements themselves.\n",
    "    Then multiply with array b and return the result.\n",
    "    \n",
    "    Inputs:\n",
    "        a: input array, shape [MxN]\n",
    "        b: input array, shape [M]\n",
    "    \n",
    "    Returns:\n",
    "        resultant array\n",
    "    \"\"\"\n",
    "\n",
    "    aa = a[:2, :]/4 # I added /4 to change value of aa (which is part of a)\n",
    "#     aa /= 4.        # having /4 in this line did not change value of aa so it ramained a 2x2 of zeroes \n",
    "    a[:2, :] -= aa\n",
    "    bb = b[:,None] # I added this row to make the array able to multiply by each other (fixed shape issue)\n",
    "#     print(aa)\n",
    "#     print(bb)\n",
    "#     print('end')\n",
    "    return a*bb # changed this to the new bb instead of just b\n",
    "    \n",
    "\n",
    "a = np.ones((3, 2))\n",
    "b = np.ones(3)*3\n",
    "res = calculate(a, b)\n",
    "# print(a)\n",
    "# print('this')\n",
    "# print(a[:2, :])\n",
    "# print(b)\n",
    "print(res)\n",
    "assert (res == np.array([[ 2.25,  2.25],[ 2.25,  2.25],[ 3., 3.]])).all()"
   ]
  },
  {
   "cell_type": "code",
   "execution_count": null,
   "metadata": {
    "collapsed": false
   },
   "outputs": [],
   "source": [
    "#16 Calculate components of a vector\n",
    "\n",
    "data = np.loadtxt('burl1h2010.txt')\n",
    "# WDIR wind direction\n",
    "vdir_data = data[:,5]\n",
    "# WSPD wind speed\n",
    "vspd_data = data[:,6]\n",
    "    \n",
    "def component_vector(vdir,vspd):\n",
    "    '''Take in vector and return components.\n",
    "        Inputs:\n",
    "            vdir: vector direction in degrees\n",
    "            vspd: vector magnitude\n",
    "        Returns:\n",
    "            u: x component of vector\n",
    "            v: y component of vector'''\n",
    "    \n",
    "    vdird = np.radians(vdir)\n",
    "    u = vspd*np.cos(vdird)\n",
    "    v = vspd*np.sin(vdird)\n",
    "    return ([u],[v])\n",
    "\n",
    "# component_vector(150,6)\n",
    "component_vector(vdir_data, vspd_data)"
   ]
  },
  {
   "cell_type": "code",
   "execution_count": null,
   "metadata": {
    "collapsed": false
   },
   "outputs": [],
   "source": [
    "#17 (Grad) Write and use a class\n",
    "\n",
    "# be initialized with the name of the file (without file type suffix of .cnv2), and the temperature and salinity values\n",
    "#     found in the file;\n",
    "# contain a method, salt_mean, which returns the mean of the salinity;\n",
    "# contain a method, temp_max, which returns the maximum value of the temperature values.\n",
    "\n",
    "# loop for general case then with the glob\n",
    "\n",
    "class dataclass(object):\n",
    "    \n",
    "        def __init__(self, filename):\n",
    "            switch = 0\n",
    "            self.temp = []\n",
    "            self.sal = []\n",
    "            self.f= filename\n",
    "            f = open(filename)\n",
    "            \n",
    "            for line in f.readlines():\n",
    "                if switch == 1:\n",
    "                    self.temp.append(line.split()[2])\n",
    "                    self.sal.append(line.split()[5])\n",
    "                if line.split()[0] == '*END*': switch = 1\n",
    "                    \n",
    "            self.temp = np.asarray(self.temp, dtype = 'float64')\n",
    "            self.sal = np.asarray(self.sal, dtype = 'float64')\n",
    "        \n",
    "        def salt_mean(self):\n",
    "            saltmean = np.mean(sal)\n",
    "            return ('This is the mean of the salinity:', saltmean)\n",
    "    \n",
    "        def temp_max(self):\n",
    "            tempmax = np.max(temp)\n",
    "            return ('This is the maximum temperature value:', tempmax)      \n",
    "        \n",
    "        \n",
    "import glob\n",
    "filegroup = glob.glob('../python4geosciences/data/MCH/*.cnv2')\n",
    "# mch('../python4geosciences/data/MCH/m1001a.cnv2')\n",
    "wind = []\n",
    "for filename in filegroup:\n",
    "#     print(filename)\n",
    "    wind.append(dataclass(filename))\n",
    "print(wind[1].f)\n",
    "print(wind[1].sal)\n",
    "print(wind[1].temp)"
   ]
  },
  {
   "cell_type": "code",
   "execution_count": null,
   "metadata": {
    "collapsed": true
   },
   "outputs": [],
   "source": [
    "is_equal?"
   ]
  },
  {
   "cell_type": "code",
   "execution_count": 18,
   "metadata": {
    "collapsed": false
   },
   "outputs": [
    {
     "ename": "IndexError",
     "evalue": "arrays used as indices must be of integer (or boolean) type",
     "output_type": "error",
     "traceback": [
      "\u001b[0;31m---------------------------------------------------------------------------\u001b[0m",
      "\u001b[0;31mIndexError\u001b[0m                                Traceback (most recent call last)",
      "\u001b[0;32m<ipython-input-18-a96d5a7b5945>\u001b[0m in \u001b[0;36m<module>\u001b[0;34m()\u001b[0m\n\u001b[1;32m     27\u001b[0m \u001b[0mb\u001b[0m \u001b[0;34m=\u001b[0m \u001b[0mnp\u001b[0m\u001b[0;34m.\u001b[0m\u001b[0marray\u001b[0m\u001b[0;34m(\u001b[0m\u001b[0;34m[\u001b[0m\u001b[0;36m1\u001b[0m\u001b[0;34m,\u001b[0m\u001b[0;36m1\u001b[0m\u001b[0;34m,\u001b[0m\u001b[0;36m1\u001b[0m\u001b[0;34m,\u001b[0m\u001b[0;36m1\u001b[0m\u001b[0;34m,\u001b[0m\u001b[0;36m1\u001b[0m\u001b[0;34m,\u001b[0m\u001b[0;36m1\u001b[0m\u001b[0;34m,\u001b[0m\u001b[0;36m1\u001b[0m\u001b[0;34m]\u001b[0m\u001b[0;34m)\u001b[0m\u001b[0;34m\u001b[0m\u001b[0m\n\u001b[1;32m     28\u001b[0m \u001b[0;31m#vect_running_mean(b,0)\u001b[0m\u001b[0;34m\u001b[0m\u001b[0;34m\u001b[0m\u001b[0m\n\u001b[0;32m---> 29\u001b[0;31m \u001b[0mvect_running_mean\u001b[0m\u001b[0;34m(\u001b[0m\u001b[0mb\u001b[0m\u001b[0;34m,\u001b[0m\u001b[0;36m1\u001b[0m\u001b[0;34m)\u001b[0m\u001b[0;34m\u001b[0m\u001b[0m\n\u001b[0m",
      "\u001b[0;32m<ipython-input-18-a96d5a7b5945>\u001b[0m in \u001b[0;36mvect_running_mean\u001b[0;34m(vect, N)\u001b[0m\n\u001b[1;32m     18\u001b[0m \u001b[0;31m#         if z < N\u001b[0m\u001b[0;34m\u001b[0m\u001b[0;34m\u001b[0m\u001b[0m\n\u001b[1;32m     19\u001b[0m         \u001b[0;32mwhile\u001b[0m \u001b[0mz\u001b[0m \u001b[0;34m>\u001b[0m \u001b[0mN\u001b[0m\u001b[0;34m:\u001b[0m\u001b[0;34m\u001b[0m\u001b[0m\n\u001b[0;32m---> 20\u001b[0;31m             \u001b[0my\u001b[0m\u001b[0;34m[\u001b[0m\u001b[0mx\u001b[0m\u001b[0;34m]\u001b[0m \u001b[0;34m=\u001b[0m \u001b[0mnp\u001b[0m\u001b[0;34m.\u001b[0m\u001b[0msum\u001b[0m\u001b[0;34m(\u001b[0m\u001b[0mvect\u001b[0m\u001b[0;34m[\u001b[0m\u001b[0mz\u001b[0m\u001b[0;34m:\u001b[0m\u001b[0;34m(\u001b[0m\u001b[0mz\u001b[0m\u001b[0;34m+\u001b[0m\u001b[0mN\u001b[0m\u001b[0;34m+\u001b[0m\u001b[0;36m1\u001b[0m\u001b[0;34m)\u001b[0m\u001b[0;34m]\u001b[0m\u001b[0;34m)\u001b[0m \u001b[0;34m+\u001b[0m \u001b[0mnp\u001b[0m\u001b[0;34m.\u001b[0m\u001b[0msum\u001b[0m\u001b[0;34m(\u001b[0m\u001b[0mvect\u001b[0m\u001b[0;34m[\u001b[0m\u001b[0;34m(\u001b[0m\u001b[0mz\u001b[0m\u001b[0;34m-\u001b[0m\u001b[0mN\u001b[0m\u001b[0;34m)\u001b[0m\u001b[0;34m:\u001b[0m\u001b[0mz\u001b[0m\u001b[0;34m]\u001b[0m\u001b[0;34m)\u001b[0m\u001b[0;34m\u001b[0m\u001b[0m\n\u001b[0m\u001b[1;32m     21\u001b[0m             \u001b[0;31m#sums =\u001b[0m\u001b[0;34m\u001b[0m\u001b[0;34m\u001b[0m\u001b[0m\n\u001b[1;32m     22\u001b[0m         \u001b[0;32melse\u001b[0m\u001b[0;34m:\u001b[0m\u001b[0;34m\u001b[0m\u001b[0m\n",
      "\u001b[0;31mIndexError\u001b[0m: arrays used as indices must be of integer (or boolean) type"
     ]
    }
   ],
   "source": [
    "#18 (Grad) Running mean\n",
    "\n",
    "def vect_running_mean(vect,N):\n",
    "    '''Return the running average of a vector, with averaging window of size N.\n",
    "\n",
    "    Inputs:\n",
    "        vec: Input vector\n",
    "        N (int): Averaging window size, or number of elements to include in mean on either side of each element.\n",
    "    Outputs:\n",
    "        out: Vector of running-averaged values; same size as vec'''\n",
    "\n",
    "    y = np.zeros((len(vect),))\n",
    "#     if N == 0:\n",
    "#         return vect\n",
    "#     else:\n",
    "    for z in range(len(vect)):\n",
    "#         fixing for end ranges\n",
    "#         if z < N\n",
    "        while z > N:\n",
    "            y[x] = np.sum(vect[z:(z+N+1)]) + np.sum(vect[(z-N):z])\n",
    "            #sums = \n",
    "        else:\n",
    "            y[z] = np.sum(vect[z:(z+N+1)]) + np.sum(vect[(z-N):z])\n",
    "    return y/(2*N+1)\n",
    "\n",
    "a = np.array([1,2,3,4,5,6,7,8,9])\n",
    "b = np.array([1,1,1,1,1,1,1])\n",
    "#vect_running_mean(b,0)\n",
    "vect_running_mean(b,1)"
   ]
  },
  {
   "cell_type": "code",
   "execution_count": 21,
   "metadata": {
    "collapsed": false
   },
   "outputs": [
    {
     "data": {
      "text/plain": [
       "array([ 0.6,  0.6,  1. ,  1. ,  1. ,  0.8,  0.6])"
      ]
     },
     "execution_count": 21,
     "metadata": {},
     "output_type": "execute_result"
    }
   ],
   "source": [
    "\n",
    "#18 (Grad) Running mean\n",
    "\n",
    "def vect_running_mean(vect,N):\n",
    "    '''Return the running average of a vector, with averaging window of size N.\n",
    "\n",
    "    Inputs:\n",
    "        vec: Input vector\n",
    "        N (int): Averaging window size, or number of elements to include in mean on either side of each element.\n",
    "    Outputs:\n",
    "        out: Vector of running-averaged values; same size as vec'''\n",
    "\n",
    "    y = np.zeros((len(vect),))\n",
    "#     if N == 0:\n",
    "#         return vect\n",
    "#     else:\n",
    "    for z in range(len(vect)):\n",
    "#         fixing for end ranges\n",
    "#         if z == \n",
    "        y[z] = np.sum(vect[z:(z+N+1)]) + np.sum(vect[(z-N):z])\n",
    "    return y/(2*N+1)\n",
    "\n",
    "vect_running_mean(b,2)"
   ]
  },
  {
   "cell_type": "code",
   "execution_count": null,
   "metadata": {
    "collapsed": true
   },
   "outputs": [],
   "source": []
  }
 ],
 "metadata": {
  "kernelspec": {
   "display_name": "Python 3",
   "language": "python",
   "name": "python3"
  },
  "language_info": {
   "codemirror_mode": {
    "name": "ipython",
    "version": 3
   },
   "file_extension": ".py",
   "mimetype": "text/x-python",
   "name": "python",
   "nbconvert_exporter": "python",
   "pygments_lexer": "ipython3",
   "version": "3.5.1"
  }
 },
 "nbformat": 4,
 "nbformat_minor": 0
}
