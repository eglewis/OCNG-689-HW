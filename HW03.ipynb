{
 "cells": [
  {
   "cell_type": "code",
   "execution_count": 1,
   "metadata": {
    "collapsed": true
   },
   "outputs": [],
   "source": [
    "# Emily Lewis\n",
    "# OCNG 689\n",
    "# Homework 3\n",
    "import numpy as np"
   ]
  },
  {
   "cell_type": "code",
   "execution_count": 2,
   "metadata": {
    "collapsed": false
   },
   "outputs": [
    {
     "data": {
      "text/plain": [
       "array([ 0.,  0.,  0.,  0.,  1.,  0.,  0.,  0.,  0.,  0.])"
      ]
     },
     "execution_count": 2,
     "metadata": {},
     "output_type": "execute_result"
    }
   ],
   "source": [
    "#1 Vector manipulation\n",
    "a = np.zeros(10)\n",
    "a[4]=1\n",
    "a"
   ]
  },
  {
   "cell_type": "code",
   "execution_count": 3,
   "metadata": {
    "collapsed": false
   },
   "outputs": [
    {
     "data": {
      "text/plain": [
       "array([10, 11, 12, 13, 14, 15, 16, 17, 18, 19, 20, 21, 22, 23, 24, 25, 26,\n",
       "       27, 28, 29, 30, 31, 32, 33, 34, 35, 36, 37, 38, 39, 40, 41, 42, 43,\n",
       "       44, 45, 46, 47, 48, 49])"
      ]
     },
     "execution_count": 3,
     "metadata": {},
     "output_type": "execute_result"
    }
   ],
   "source": [
    "#2 Vector range\n",
    "b = np.arange(10,50,1)\n",
    "b"
   ]
  },
  {
   "cell_type": "code",
   "execution_count": 4,
   "metadata": {
    "collapsed": false
   },
   "outputs": [
    {
     "data": {
      "text/plain": [
       "array([8, 7, 6, 5, 4, 3, 2, 1])"
      ]
     },
     "execution_count": 4,
     "metadata": {},
     "output_type": "execute_result"
    }
   ],
   "source": [
    "#3 Reverse a vector\n",
    "def reverse(x):\n",
    "    '''return a 1D vector with the elements reversed\n",
    "        Input\n",
    "    -----\n",
    "        x: 1D array\n",
    "    Output\n",
    "    ------\n",
    "        res: 1D array, with the elements of `x` reversed '''\n",
    "    return x[::-1]\n",
    "\n",
    "x=np.array([1,2,3,4,5,6,7,8])\n",
    "reverse(x)"
   ]
  },
  {
   "cell_type": "code",
   "execution_count": 5,
   "metadata": {
    "collapsed": false
   },
   "outputs": [
    {
     "name": "stdout",
     "output_type": "stream",
     "text": [
      "(array([0, 1, 4]),)\n",
      "[1 2 4]\n"
     ]
    }
   ],
   "source": [
    "#4 Find indices of non-zero elements\n",
    "# one way to do 4\n",
    "def find_nonzero(z):\n",
    "    return np.nonzero(z)\n",
    "x=np.array([1,2,0,0,4,0])\n",
    "w = find_nonzero(x)\n",
    "\n",
    "print(w)\n",
    "y = x[find_nonzero(x)]\n",
    "print(y)\n",
    "# type(y)"
   ]
  },
  {
   "cell_type": "code",
   "execution_count": 6,
   "metadata": {
    "collapsed": false
   },
   "outputs": [
    {
     "name": "stdout",
     "output_type": "stream",
     "text": [
      "These are the indices: [0, 1, 4]\n",
      "Used function to get nonzero values: [1 2 4]\n"
     ]
    }
   ],
   "source": [
    "# better way to do 4\n",
    "def find_nonzero(z):\n",
    "    '''return the indices of non-zero elements of an array.\n",
    "        Input:      x:  array\n",
    "        Output:     indices: array of integer indices'''\n",
    "    nonzero=[]\n",
    "    for i,w in enumerate(z):\n",
    "        if w !=0:\n",
    "            nonzero.append(i)\n",
    "        else: continue\n",
    "    return nonzero\n",
    "\n",
    "x=np.array([1,2,0,0,4,0])\n",
    "print('These are the indices:', find_nonzero(x))\n",
    "z=x[find_nonzero(x)]\n",
    "print('Used function to get nonzero values:', z)"
   ]
  },
  {
   "cell_type": "code",
   "execution_count": 7,
   "metadata": {
    "collapsed": false
   },
   "outputs": [
    {
     "name": "stdout",
     "output_type": "stream",
     "text": [
      "0\n",
      "cats\n",
      "1\n",
      "radar\n",
      "2\n",
      "stars\n"
     ]
    }
   ],
   "source": [
    "# explaination of enumerate\n",
    "words = ['cats','radar','stars']\n",
    "for i,word in enumerate(words):\n",
    "    print(i)\n",
    "    print(word)\n",
    "    "
   ]
  },
  {
   "cell_type": "code",
   "execution_count": 8,
   "metadata": {
    "collapsed": false
   },
   "outputs": [
    {
     "name": "stdout",
     "output_type": "stream",
     "text": [
      "[[[ 0.33617343  0.60310034 -0.08548648]\n",
      "  [-0.68857185  0.77464178 -3.26163698]\n",
      "  [-0.39818923  0.41835169 -0.2132755 ]]\n",
      "\n",
      " [[ 0.64132308 -2.2190436  -0.82726127]\n",
      "  [ 0.1346616   0.29387739  1.77480668]\n",
      "  [-0.68035831 -0.3632023  -0.06460752]]\n",
      "\n",
      " [[-2.08826263 -0.29943552  0.82063522]\n",
      "  [ 0.24257444 -0.80629231 -0.60334654]\n",
      "  [-0.01816199 -0.55554285  0.48140283]]]\n"
     ]
    }
   ],
   "source": [
    "#5 Array with random values\n",
    "#np.random.normal(loc=0,scale=1,size=None)\n",
    "# loc is mean... mu of distribution >> 0 for this problem\n",
    "# scale is standard deviation >> 1 in this case\n",
    "z = np.random.normal(0,1,(3,3,3))\n",
    "print(z)"
   ]
  },
  {
   "cell_type": "code",
   "execution_count": 9,
   "metadata": {
    "collapsed": false
   },
   "outputs": [
    {
     "name": "stdout",
     "output_type": "stream",
     "text": [
      "[[ 0.5361064   0.49917859  0.96440112  0.58772519  0.46627244  0.86519677\n",
      "   0.31051372  0.62385802  0.7363215   0.87604199]\n",
      " [ 0.04092334  0.62570896  0.71064976  0.72865532  0.5654592   0.47083671\n",
      "   0.71653877  0.74755334  0.93887648  0.06970503]\n",
      " [ 0.98416958  0.97308323  0.54763774  0.08585048  0.59098138  0.87025358\n",
      "   0.76894493  0.76335486  0.03270963  0.45106847]\n",
      " [ 0.02664655  0.71501266  0.43891138  0.48736516  0.13353763  0.2307266\n",
      "   0.38253477  0.88792565  0.88890647  0.47815269]\n",
      " [ 0.83975891  0.83721476  0.486111    0.00969109  0.95906894  0.96362055\n",
      "   0.85697733  0.62213012  0.82635913  0.36914027]\n",
      " [ 0.01060639  0.15142999  0.4513595   0.48022061  0.28259587  0.60414444\n",
      "   0.43139262  0.03769808  0.31355324  0.88837513]\n",
      " [ 0.97941426  0.87785032  0.37795281  0.81427002  0.02055959  0.85232424\n",
      "   0.64978958  0.47846351  0.34790141  0.0817499 ]\n",
      " [ 0.61572586  0.22299423  0.80513515  0.63988033  0.65373753  0.80529892\n",
      "   0.94623524  0.11998     0.13829584  0.61281493]\n",
      " [ 0.82899651  0.44487817  0.0010854   0.98776769  0.67101441  0.62934806\n",
      "   0.56449927  0.80338749  0.81424072  0.88959803]\n",
      " [ 0.16462155  0.94410173  0.07237923  0.6691552   0.84912573  0.41406376\n",
      "   0.98815473  0.49177185  0.54214267  0.82509776]]\n",
      "Minimm of 2nd row:  0.0409233416072\n",
      "Maximum of 4th column: 0.987767689595\n"
     ]
    }
   ],
   "source": [
    "#6 Operations on an array with random values\n",
    "x=np.random.rand(10,10)\n",
    "print(x)\n",
    "\n",
    "# min 2nd row\n",
    "#axis 1 is for rows ... axis 0 is for columns\n",
    "# [1] makes it the second row specifically\n",
    "y=x.min(axis=1)[1]\n",
    "print('Minimm of 2nd row: ',y)\n",
    "\n",
    "# max 4th column\n",
    "# this returns maximum values for all the columns\n",
    "# [3] makes it the fourth column specifically \n",
    "z=x.max(axis=0)[3]\n",
    "print('Maximum of 4th column:',z)"
   ]
  },
  {
   "cell_type": "code",
   "execution_count": 10,
   "metadata": {
    "collapsed": false
   },
   "outputs": [
    {
     "name": "stdout",
     "output_type": "stream",
     "text": [
      "[ 0.09090909  0.18181818  0.27272727  0.36363636  0.45454545  0.54545455\n",
      "  0.63636364  0.72727273  0.81818182  0.90909091]\n"
     ]
    },
    {
     "data": {
      "text/plain": [
       "10"
      ]
     },
     "execution_count": 10,
     "metadata": {},
     "output_type": "execute_result"
    }
   ],
   "source": [
    "#7 Vector without end points\n",
    "x = np.linspace(0,1,12)[1:11]\n",
    "print(x)\n",
    "x.size"
   ]
  },
  {
   "cell_type": "code",
   "execution_count": 11,
   "metadata": {
    "collapsed": false
   },
   "outputs": [
    {
     "name": "stdout",
     "output_type": "stream",
     "text": [
      "[ 0.30142177  0.4035029   0.58445804  0.72293555  0.34912614  0.32570081\n",
      "  0.02071056  0.6831961   0.64343562  0.54907142]\n"
     ]
    },
    {
     "data": {
      "text/plain": [
       "array([ 0.02071056,  0.30142177,  0.32570081,  0.34912614,  0.4035029 ,\n",
       "        0.54907142,  0.58445804,  0.64343562,  0.6831961 ,  0.72293555])"
      ]
     },
     "execution_count": 11,
     "metadata": {},
     "output_type": "execute_result"
    }
   ],
   "source": [
    "#8 Sorted random vector\n",
    "e = np.random.rand(10)\n",
    "print(e)\n",
    "e.sort()\n",
    "e"
   ]
  },
  {
   "cell_type": "code",
   "execution_count": 94,
   "metadata": {
    "collapsed": false
   },
   "outputs": [
    {
     "name": "stdout",
     "output_type": "stream",
     "text": [
      "False\n",
      "True\n"
     ]
    }
   ],
   "source": [
    "#9 Test for array equality\n",
    "def is_equal(A,B):\n",
    "    '''Inputs:\n",
    "            A, B:  array\n",
    "        Output:\n",
    "            Bool:  True if A and B have the same shape and identical elements.'''\n",
    "    return A == B\n",
    "\n",
    "C=(1,2,3,4)\n",
    "D=(1,2,3,4,5)\n",
    "print(is_equal(C,D))\n",
    "\n",
    "E=(4,3,2)\n",
    "F=(4,3,2)\n",
    "print(is_equal(E,F))"
   ]
  },
  {
   "cell_type": "code",
   "execution_count": 13,
   "metadata": {
    "collapsed": false
   },
   "outputs": [
    {
     "name": "stdout",
     "output_type": "stream",
     "text": [
      "Original matrix:\n",
      "  [[ 0.94423542  0.98592651  0.06659427]\n",
      " [ 0.64266249  0.36156987  0.50405238]\n",
      " [ 0.60992601  0.42657291  0.64455511]]\n",
      "mean of the rows:  [ 0.6655854   0.50276158  0.56035134]\n"
     ]
    },
    {
     "data": {
      "text/plain": [
       "array([[ 0.27865002,  0.32034111, -0.59899113],\n",
       "       [ 0.13990091, -0.14119171,  0.0012908 ],\n",
       "       [ 0.04957467, -0.13377843,  0.08420377]])"
      ]
     },
     "execution_count": 13,
     "metadata": {},
     "output_type": "execute_result"
    }
   ],
   "source": [
    "#10 Subtract the row mean from rows of a matrix\n",
    "g=np.random.rand(3,3)\n",
    "print('Original matrix:\\n ',g)\n",
    "y=g.mean(axis=1)\n",
    "print('mean of the rows: ', y)\n",
    "\n",
    "def sub_row_mean(x):\n",
    "    '''Takes matrix and subtracts row mean from rows'''\n",
    "    y=x.mean(axis=1, keepdims=True)\n",
    "    z = x - y\n",
    "    return z\n",
    "\n",
    "sub_row_mean(g)"
   ]
  },
  {
   "cell_type": "code",
   "execution_count": 14,
   "metadata": {
    "collapsed": false
   },
   "outputs": [
    {
     "name": "stdout",
     "output_type": "stream",
     "text": [
      "[[[ 0.2238587   0.13543386  0.38552137]\n",
      "  [ 0.30602993  0.34519163  0.28679396]\n",
      "  [ 0.41024907  0.21766159  0.30128536]\n",
      "  [ 0.11266892  0.11569691  0.09543314]\n",
      "  [ 0.08633824  0.26604232  0.17107487]]\n",
      "\n",
      " [[ 0.11260307  0.00561819  0.17774707]\n",
      "  [ 0.06932634  0.30855532  0.2812141 ]\n",
      "  [ 0.44055771  0.16869393  0.19931745]\n",
      "  [ 0.26501819  0.60007966  0.49811752]\n",
      "  [ 0.23140484  0.0711991   0.17099414]]\n",
      "\n",
      " [[ 0.20850677  0.7740102   0.30782317]\n",
      "  [ 0.30500902  0.01244784  0.12107466]\n",
      "  [ 0.04026814  0.11865015  0.09770069]\n",
      "  [ 0.12582734  0.20918215  0.3186882 ]\n",
      "  [ 0.00376728  0.02069461  0.02578011]]\n",
      "\n",
      " [[ 0.70528038  0.69670656  0.43119238]\n",
      "  [ 0.60976069  0.13198957  0.67222604]\n",
      "  [ 0.16295584  0.00818786  0.44726261]\n",
      "  [ 0.07393047  0.14814553  0.22188221]\n",
      "  [ 0.05620297  0.62680339  0.61607816]]\n",
      "\n",
      " [[ 0.21742616  0.45772415  0.51222704]\n",
      "  [ 0.15854142  0.23649065  0.02896448]\n",
      "  [ 0.02065294  0.09019391  0.12180698]\n",
      "  [ 0.11967125  0.08315829  0.0233738 ]\n",
      "  [ 0.05238348  0.12175436  0.08232316]]]\n",
      "[[[ 0.04534798  0.33933205  0.67104996  0.07414074  0.20943805]\n",
      "  [ 0.00760378  0.08936195  0.04352595  0.01486866  0.61558577]\n",
      "  [ 0.20032227  0.0174844   0.1294821   0.18649035  0.04887435]\n",
      "  [ 0.83917755  0.13626261  0.26290589  0.69829951  0.2717911 ]\n",
      "  [ 0.44791848  0.07577835  0.24500889  0.20636816  0.02147143]]\n",
      "\n",
      " [[ 0.2244802   0.57368138  0.19409602  0.00863931  0.33187068]\n",
      "  [ 0.03684927  0.08240689  0.12050633  0.05345212  0.86863205]\n",
      "  [ 0.11224963  0.01621716  0.17506671  0.54348664  0.0641355 ]\n",
      "  [ 0.03257806  0.04858272  0.78094313  0.34144614  0.44769452]\n",
      "  [ 0.14409805  0.08275924  0.35638359  0.14492838  0.05397694]]\n",
      "\n",
      " [[ 0.00153298  0.27011216  0.16891126  0.15143286  0.00244112]\n",
      "  [ 0.07075673  0.06553075  0.06887387  0.19960017  0.15296758]\n",
      "  [ 0.1531328   0.02648294  0.13177946  0.22731297  0.14564647]\n",
      "  [ 0.80910524  0.03967405  0.42705351  0.84968216  0.1429414 ]\n",
      "  [ 0.56310248  0.13107632  0.22916994  0.14786448  0.01138507]]]\n"
     ]
    }
   ],
   "source": [
    "#11 Multiply arrays\n",
    "a=np.random.rand(5,5,3)\n",
    "b=np.random.rand(5,5)\n",
    "sol1 = a*b[:,:,None] # this is to fix the size so they can be multiplied \n",
    "print(sol1)\n",
    "\n",
    "c=np.random.rand(3,5,5)\n",
    "d=np.random.rand(5,5)\n",
    "sol2 = c*d\n",
    "print(sol2)"
   ]
  },
  {
   "cell_type": "code",
   "execution_count": 102,
   "metadata": {
    "collapsed": false
   },
   "outputs": [
    {
     "name": "stdout",
     "output_type": "stream",
     "text": [
      "This is Z:\n",
      " [ 1  2  3  4  5  6  7  8  9 10 11 12 13 14]\n",
      "This is R:\n",
      " [[ 1  2  3  4]\n",
      " [ 2  3  4  5]\n",
      " [ 3  4  5  6]\n",
      " [ 4  5  6  7]\n",
      " [ 5  6  7  8]\n",
      " [ 6  7  8  9]\n",
      " [ 7  8  9 10]\n",
      " [ 8  9 10 11]\n",
      " [ 9 10 11 12]\n",
      " [10 11 12 13]\n",
      " [11 12 13 14]]\n"
     ]
    }
   ],
   "source": [
    "#12 Creating a new array\n",
    "Z=np.arange(1,15,1)\n",
    "print('This is Z:\\n',Z)\n",
    "# R = [[1,2,3,4], [2,3,4,5], [3,4,5,6], ..., [11,12,13,14]]. \n",
    "\n",
    "# k=array([])\n",
    "#type(k)\n",
    "k = []\n",
    "for n in Z:\n",
    "    if n < 12:\n",
    "        n = np.array([n,n+1,n+2,n+3])\n",
    "        k.append(n)\n",
    "        R=np.asarray(k)        # this makes R return as an array \n",
    "    elif n == 12 or n == 13:   # this keeps the array from printing three times\n",
    "        continue\n",
    "    else:                      # the array only prints once for the value n = 14\n",
    "        print('This is R:\\n',R)"
   ]
  },
  {
   "cell_type": "code",
   "execution_count": 16,
   "metadata": {
    "collapsed": false
   },
   "outputs": [
    {
     "data": {
      "text/plain": [
       "array([[ 2.23606798,  1.10714872],\n",
       "       [ 5.83095189,  1.03037683],\n",
       "       [ 7.28010989,  1.29249667]])"
      ]
     },
     "execution_count": 16,
     "metadata": {},
     "output_type": "execute_result"
    }
   ],
   "source": [
    "#13 Convert from Cartesian to polar coordinates\n",
    "def cart2polar(xy):\n",
    "    '''Return equivalent polar coordinates of specified cartesian points.\n",
    "    Inputs:\n",
    "        xy: array\n",
    "             Nx2 array of Cartesian coordinates, with columns x and y respectively.\n",
    "    Returns:\n",
    "        rp: array\n",
    "            Nx2 array of polar coordinates, with columns radius and angle respectively'''   \n",
    "    x = xy[:,0]\n",
    "    y = xy[:,1]\n",
    "    r = np.sqrt(x**2 + y**2)\n",
    "    p = np.arctan2(y, x)\n",
    "    return(np.transpose(np.array([r,p])))\n",
    "\n",
    "# a=np.random.rand(2,2)\n",
    "# print(a)\n",
    "b = np.array([[1,2],[3,5],[2,7]])\n",
    "cart2polar(b)"
   ]
  },
  {
   "cell_type": "code",
   "execution_count": 106,
   "metadata": {
    "collapsed": false
   },
   "outputs": [
    {
     "name": "stdout",
     "output_type": "stream",
     "text": [
      "ratio of sol2/sol 15.719438877755511\n"
     ]
    }
   ],
   "source": [
    "#14 Compute and time for loops and array operations.\n",
    "import time\n",
    "\n",
    "a = np.arange(1024.0).reshape(4, 8, 16, 2)   # a 4D array using sequential numbers\n",
    "b = np.random.rand(4, 8, 16, 2)              # a 4D array using random numbers\n",
    "\n",
    "time3 = time.time()\n",
    "# print(time3)\n",
    "\n",
    "sol = a * b  # element-by-element multiplication. This operation is about as fast as it can be on your computer.\n",
    "\n",
    "\n",
    "time1 = time.time()\n",
    "# print('This is time1: ', time1)\n",
    "\n",
    "# (n, k, j, i) \n",
    "\n",
    "sol2 = np.empty_like(sol)\n",
    "for n in range(a.shape[0]):\n",
    "    for k in range(a.shape[1]):\n",
    "        for j in range(a.shape[2]):\n",
    "            for i in range(a.shape[3]):\n",
    "                sol2[n, k, j, i] = a[n, k, j, i] * b[n, k, j, i]    \n",
    "\n",
    "time2 = time.time()\n",
    "# print('This is time2: ', time2)\n",
    "\n",
    "# print(time2-time1)\n",
    "\n",
    "ratio=((time2-time1)/(time1-time3))\n",
    "print('ratio of sol2/sol: ', ratio)\n",
    "\n",
    "# type(np.shape(a))\n",
    "# a.shape\n",
    "# list(range(3))"
   ]
  },
  {
   "cell_type": "code",
   "execution_count": 96,
   "metadata": {
    "collapsed": false
   },
   "outputs": [
    {
     "data": {
      "text/plain": [
       "True"
      ]
     },
     "execution_count": 96,
     "metadata": {},
     "output_type": "execute_result"
    }
   ],
   "source": [
    "np.all(sol==sol2)"
   ]
  },
  {
   "cell_type": "code",
   "execution_count": 18,
   "metadata": {
    "collapsed": false
   },
   "outputs": [
    {
     "name": "stdout",
     "output_type": "stream",
     "text": [
      "[[ 2.25  2.25]\n",
      " [ 2.25  2.25]\n",
      " [ 3.    3.  ]]\n"
     ]
    }
   ],
   "source": [
    "#15 Fix the code\n",
    "def calculate(a, b):\n",
    "    \"\"\"Do some calculations\n",
    "    \n",
    "    Take in two arrays, subtract 1/4 of the [:2,:] elements from the elements themselves.\n",
    "    Then multiply with array b and return the result.\n",
    "    \n",
    "    Inputs:\n",
    "        a: input array, shape [MxN]\n",
    "        b: input array, shape [M]\n",
    "    \n",
    "    Returns:\n",
    "        resultant array\n",
    "    \"\"\"\n",
    "\n",
    "    aa = a[:2, :]/4 # I added /4 to change value of aa (which is part of a)\n",
    "#     aa /= 4.        # having /4 in this line did not change value of aa so it ramained a 2x2 of zeroes \n",
    "    a[:2, :] -= aa\n",
    "    bb = b[:,None] # I added this row to make the array able to multiply by each other (fixed shape issue)\n",
    "#     print(aa)\n",
    "#     print(bb)\n",
    "#     print('end')\n",
    "    return a*bb # changed this to the new bb instead of just b\n",
    "    \n",
    "\n",
    "a = np.ones((3, 2))\n",
    "b = np.ones(3)*3\n",
    "res = calculate(a, b)\n",
    "# print(a)\n",
    "# print('this')\n",
    "# print(a[:2, :])\n",
    "# print(b)\n",
    "print(res)\n",
    "assert (res == np.array([[ 2.25,  2.25],[ 2.25,  2.25],[ 3., 3.]])).all()"
   ]
  },
  {
   "cell_type": "code",
   "execution_count": 19,
   "metadata": {
    "collapsed": false
   },
   "outputs": [
    {
     "data": {
      "text/plain": [
       "([array([ -2.08397511,  -1.96070053,  -2.12119911, ...,  -9.56084447,\n",
       "         -10.50707636,  -8.83345912])],\n",
       " [array([ 2.1580194 ,  3.01921404,  2.52794666, ...,  6.208885  ,\n",
       "          5.5867116 ,  5.1       ])])"
      ]
     },
     "execution_count": 19,
     "metadata": {},
     "output_type": "execute_result"
    }
   ],
   "source": [
    "#16 Calculate components of a vector\n",
    "\n",
    "data = np.loadtxt('burl1h2010.txt')\n",
    "# WDIR wind direction\n",
    "vdir_data = data[:,5]\n",
    "# WSPD wind speed\n",
    "vspd_data = data[:,6]\n",
    "    \n",
    "def component_vector(vdir,vspd):\n",
    "    '''Take in vector and return components.\n",
    "        Inputs:\n",
    "            vdir: vector direction in degrees\n",
    "            vspd: vector magnitude\n",
    "        Returns:\n",
    "            u: x component of vector\n",
    "            v: y component of vector'''\n",
    "    \n",
    "    vdird = np.radians(vdir)\n",
    "    u = vspd*np.cos(vdird)\n",
    "    v = vspd*np.sin(vdird)\n",
    "    return ([u],[v])\n",
    "\n",
    "# component_vector(150,6)\n",
    "component_vector(vdir_data, vspd_data)"
   ]
  },
  {
   "cell_type": "code",
   "execution_count": 99,
   "metadata": {
    "collapsed": false
   },
   "outputs": [
    {
     "name": "stdout",
     "output_type": "stream",
     "text": [
      "../python4geosciences/data/MCH/m1001c.cnv2\n",
      "[ 24.4009  24.397   24.3957  24.4029  24.4197  24.4626  24.548   24.6361\n",
      "  24.6538  24.692   24.7626  24.8009  24.8066]\n",
      "[ 22.0411  22.0391  22.0399  22.0399  22.0498  22.0663  22.0935  22.1243\n",
      "  22.1312  22.1469  22.1756  22.1909  22.1937]\n"
     ]
    }
   ],
   "source": [
    "#17 (Grad) Write and use a class\n",
    "\n",
    "# be initialized with the name of the file (without file type suffix of .cnv2), and the temperature and salinity values\n",
    "#     found in the file;\n",
    "# contain a method, salt_mean, which returns the mean of the salinity;\n",
    "# contain a method, temp_max, which returns the maximum value of the temperature values.\n",
    "\n",
    "# loop for general case then with the glob\n",
    "\n",
    "class dataclass(object):\n",
    "    \n",
    "        def __init__(self, filename):\n",
    "            switch = 0\n",
    "            self.temp = []\n",
    "            self.sal = []\n",
    "            self.f= filename\n",
    "            f = open(filename)\n",
    "            \n",
    "            for line in f.readlines():\n",
    "                if switch == 1:\n",
    "                    self.temp.append(line.split()[2])\n",
    "                    self.sal.append(line.split()[5])\n",
    "                if line.split()[0] == '*END*': switch = 1\n",
    "                    \n",
    "            self.temp = np.asarray(self.temp, dtype = 'float64')\n",
    "            self.sal = np.asarray(self.sal, dtype = 'float64')\n",
    "        \n",
    "        def salt_mean(self):\n",
    "            saltmean = np.mean(sal)\n",
    "            return ('This is the mean of the salinity:', saltmean)\n",
    "    \n",
    "        def temp_max(self):\n",
    "            tempmax = np.max(temp)\n",
    "            return ('This is the maximum temperature value:', tempmax)      \n",
    "        \n",
    "        \n",
    "import glob\n",
    "filegroup = glob.glob('../python4geosciences/data/MCH/*.cnv2')\n",
    "# mch('../python4geosciences/data/MCH/m1001a.cnv2')\n",
    "wind = []\n",
    "for filename in filegroup:\n",
    "#     print(filename)\n",
    "    wind.append(dataclass(filename))\n",
    "print(wind[1].f)\n",
    "print(wind[1].sal)\n",
    "print(wind[1].temp)"
   ]
  },
  {
   "cell_type": "code",
   "execution_count": 87,
   "metadata": {
    "collapsed": true
   },
   "outputs": [],
   "source": [
    "is_equal?"
   ]
  },
  {
   "cell_type": "code",
   "execution_count": 23,
   "metadata": {
    "collapsed": false
   },
   "outputs": [
    {
     "data": {
      "text/plain": [
       "array([ 0.66666667,  1.        ,  1.        ,  1.        ,  1.        ,\n",
       "        1.        ,  0.66666667])"
      ]
     },
     "execution_count": 23,
     "metadata": {},
     "output_type": "execute_result"
    }
   ],
   "source": [
    "#18 (Grad) Running mean\n",
    "\n",
    "def vect_running_mean(vect,N):\n",
    "    '''Return the running average of a vector, with averaging window of size N.\n",
    "\n",
    "    Inputs:\n",
    "        vec: Input vector\n",
    "        N (int): Averaging window size, or number of elements to include in mean on either side of each element.\n",
    "    Outputs:\n",
    "        out: Vector of running-averaged values; same size as vec'''\n",
    "\n",
    "    y = np.zeros((len(vect),))\n",
    "#     if N == 0:\n",
    "#         return vect\n",
    "#     else:\n",
    "    for z in range(len(vect)):\n",
    "#         fixing for end ranges\n",
    "#         if z == \n",
    "        y[z] = np.sum(vect[z:(z+N+1)]) + np.sum(vect[(z-N):z])\n",
    "    return y/(2*N+1)\n",
    "\n",
    "a = np.array([1,2,3,4,5,6,7,8,9])\n",
    "b = np.array([1,1,1,1,1,1,1])\n",
    "vect_running_mean(b,0)\n",
    "vect_running_mean(b,1)"
   ]
  },
  {
   "cell_type": "code",
   "execution_count": null,
   "metadata": {
    "collapsed": true
   },
   "outputs": [],
   "source": []
  }
 ],
 "metadata": {
  "kernelspec": {
   "display_name": "Python 3",
   "language": "python",
   "name": "python3"
  },
  "language_info": {
   "codemirror_mode": {
    "name": "ipython",
    "version": 3
   },
   "file_extension": ".py",
   "mimetype": "text/x-python",
   "name": "python",
   "nbconvert_exporter": "python",
   "pygments_lexer": "ipython3",
   "version": "3.5.1"
  }
 },
 "nbformat": 4,
 "nbformat_minor": 0
}
